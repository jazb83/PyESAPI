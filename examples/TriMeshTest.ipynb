{
 "cells": [
  {
   "cell_type": "code",
   "execution_count": 1,
   "metadata": {
    "collapsed": true
   },
   "outputs": [],
   "source": [
    "import numpy as np\n",
    "import trimesh as tm # https://github.com/mikedh/trimesh\n",
    "from time import time\n",
    "import sys\n",
    "# It seems that we need rtree to execute the last cell\n",
    "import rtree\n",  
    "sys.path.append(r'C:\\Users\\Varian\\source\\repos\\vmspy')  # path to vmspy repo\n",
    "\n",
    "import pyesapi\n",
    "pyesapi.SAFE_MODE = False # make 3D array build go faster\n",
    "#load app only once\n",
    "app = pyesapi.CustomScriptExecutable.CreateApplication('mmf_raymesh')  # script name is used for logging"
   ]
  },
  {
   "cell_type": "code",
   "execution_count": 2,
   "metadata": {
    "collapsed": true
   },
   "outputs": [],
   "source": [
    "patient = app.OpenPatientById(\"001\")"
   ]
  },
  {
   "cell_type": "code",
   "execution_count": 3,
   "metadata": {
    "collapsed": true
   },
   "outputs": [],
   "source": [
    "plan = patient.CoursesLot(0).PlanSetupsLot(0)"
   ]
  },
  {
   "cell_type": "code",
   "execution_count": 4,
   "metadata": {
    "collapsed": true
   },
   "outputs": [],
   "source": [
    "structure = plan.StructureSet.StructuresLot('body')"
   ]
  },
  {
   "cell_type": "code",
   "execution_count": 68,
   "metadata": {
    "collapsed": true
   },
   "outputs": [],
   "source": [
    "expanded_field_size = 300. # mm\n",
    "beamlet_size_x = beamlet_size_z = 5.0  # mm"
   ]
  },
  {
   "cell_type": "code",
   "execution_count": 69,
   "metadata": {},
   "outputs": [
    {
     "name": "stdout",
     "output_type": "stream",
     "text": [
      "time: 3.023192882537842\n"
     ]
    },
    {
     "data": {
      "image/png": "[encoded data removed]",
      "text/plain": [
       "<matplotlib.figure.Figure at 0x268407950f0>"
      ]
     },
     "metadata": {},
     "output_type": "display_data"
    }
   ],
   "source": [
    "tic = time()\n",
    "\n",
    "iso = plan.BeamsLot(0).IsocenterPosition\n",
    "\n",
    "meshgeo = structure.MeshGeometry\n",
    "verts = np.array([(_.X-iso.x, _.Y-iso.y, _.Z-iso.z) for _ in meshgeo.Positions])\n",
    "faces = np.array([_ for _ in structure.MeshGeometry.TriangleIndices]).reshape((-1,3))\n",
    "mesh = tm.Trimesh(vertices=verts,faces=faces)\n",
    "\n",
    "# tic = time()\n",
    "\n",
    "# compute CENTRAL POINTS of pixels on fluence map\n",
    "x_map_centers = np.linspace(-expanded_field_size / 2. + beamlet_size_x / 2,\n",
    "                            expanded_field_size / 2. - beamlet_size_x / 2.,\n",
    "                            int(expanded_field_size / beamlet_size_x))\n",
    "\n",
    "z_map_centers = np.linspace(-expanded_field_size / 2. + beamlet_size_z / 2,\n",
    "                            expanded_field_size / 2. - beamlet_size_z / 2.,\n",
    "                            int(expanded_field_size / beamlet_size_z))\n",
    "\n",
    "x_mesh_centers, z_mesh_centers = np.meshgrid(x_map_centers, z_map_centers)\n",
    "\n",
    "num_bixels = x_mesh_centers.shape[0]*z_mesh_centers.shape[0]\n",
    "\n",
    "src_pts = np.array([0.0,1000.0,0.0]*num_bixels).reshape((-1,3)) # mm\n",
    "iso_plane = np.array([x_mesh_centers.flatten(), [0.0]*num_bixels ,z_mesh_centers.flatten()]).T\n",
    "assert iso_plane.shape == src_pts.shape\n",
    "\n",
    "intersections = mesh.ray.intersects_location(ray_origins=src_pts,ray_directions=iso_plane-src_pts)\n",
    "\n",
    "locations = intersections[0]\n",
    "ray_idxs = intersections[1]\n",
    "dist_map = np.ones_like(x_mesh_centers)*np.inf\n",
    "for i,idx in enumerate(ray_idxs):\n",
    "    temp_dist = np.sqrt(np.square(locations[i]-src_pts[idx]).sum())\n",
    "    if(temp_dist < dist_map.flat[idx]):\n",
    "        dist_map.flat[idx] = temp_dist\n",
    "\n",
    "print(\"time:\",time()-tic)\n",
    "\n",
    "from matplotlib import pyplot as plt\n",
    "plt.imshow(dist_map)\n",
    "plt.colorbar()\n",
    "plt.show()"
   ]
  },
  {
   "cell_type": "code",
   "execution_count": null,
   "metadata": {
    "collapsed": true
   },
   "outputs": [],
   "source": []
  }
 ],
 "metadata": {
  "kernelspec": {
   "display_name": "Python 3",
   "language": "python",
   "name": "python3"
  },
  "language_info": {
   "codemirror_mode": {
    "name": "ipython",
    "version": 3
   },
   "file_extension": ".py",
   "mimetype": "text/x-python",
   "name": "python",
   "nbconvert_exporter": "python",
   "pygments_lexer": "ipython3",
   "version": "3.6.1"
  }
 },
 "nbformat": 4,
 "nbformat_minor": 2
}
